{
 "cells": [
  {
   "cell_type": "code",
   "execution_count": 1,
   "metadata": {},
   "outputs": [
    {
     "name": "stderr",
     "output_type": "stream",
     "text": [
      "/home/ubuntu/anaconda2/envs/tensorflow/lib/python2.7/site-packages/h5py/__init__.py:36: FutureWarning: Conversion of the second argument of issubdtype from `float` to `np.floating` is deprecated. In future, it will be treated as `np.float64 == np.dtype(float).type`.\n",
      "  from ._conv import register_converters as _register_converters\n",
      "Using TensorFlow backend.\n"
     ]
    }
   ],
   "source": [
    "import time\n",
    "import sys\n",
    "import re\n",
    "import unicodedata\n",
    "\n",
    "import numpy as np\n",
    "import pandas as pd\n",
    "import tensorflow as tf\n",
    "from tensorflow.contrib import layers\n",
    "\n",
    "from keras.models import Sequential, load_model\n",
    "from keras.layers import Dense, Dropout\n",
    "from keras.layers import LSTM, GRU\n",
    "from keras.layers import Activation\n",
    "from keras.optimizers import RMSprop\n",
    "\n",
    "from keras.preprocessing import sequence\n",
    "\n",
    "from __future__ import print_function\n"
   ]
  },
  {
   "cell_type": "code",
   "execution_count": 2,
   "metadata": {},
   "outputs": [
    {
     "name": "stdout",
     "output_type": "stream",
     "text": [
      "['\\n', ' ', '!', '\"', '&', \"'\", '(', ')', '*', '+', ',', '-', '.', '/', '0', '1', '2', '3', '4', '5', '6', '7', '8', '9', ':', ';', '?', '@', '[', ']', 'a', 'b', 'c', 'd', 'e', 'f', 'g', 'h', 'i', 'j', 'k', 'l', 'm', 'n', 'o', 'p', 'q', 'r', 's', 't', 'u', 'v', 'w', 'x', 'y', 'z', '|', '{', '}']\n",
      "data has 600287 characters, 59 unique.\n"
     ]
    }
   ],
   "source": [
    "# determine dictionary of characters\n",
    "\n",
    "infile = 'fundnames.txt'\n",
    "data = open(infile, 'r').read()\n",
    "chars = sorted(list(set(data)))\n",
    "\n",
    "# add start/end chars (pointless if it has \\n separators)\n",
    "STARTCHAR ='{'\n",
    "ENDCHAR = '}'\n",
    "chars.append(STARTCHAR)\n",
    "chars.append(ENDCHAR)\n",
    "print(chars)\n",
    "DATA_SIZE, VOCAB_SIZE = len(data), len(chars)\n",
    "print('data has %d characters, %d unique.' % (DATA_SIZE, VOCAB_SIZE))\n",
    "\n",
    "char_to_ix = {ch: i for i, ch in enumerate(chars)}\n",
    "ix_to_char = {i: ch for i, ch in enumerate(chars)}\n",
    "\n",
    "def mapstring(str):\n",
    "    return list([char_to_ix[c] for c in str])\n"
   ]
  },
  {
   "cell_type": "code",
   "execution_count": 3,
   "metadata": {},
   "outputs": [
    {
     "data": {
      "text/plain": [
       "[('{', 'a'),\n",
       " ('{a', 'l'),\n",
       " ('{al', 'o'),\n",
       " ('{alo', 'h'),\n",
       " ('{aloh', 'a'),\n",
       " ('{aloha', '}')]"
      ]
     },
     "execution_count": 3,
     "metadata": {},
     "output_type": "execute_result"
    }
   ],
   "source": [
    "#for each string\n",
    "#0-length string predicts first letter\n",
    "#each substring predicts following letter\n",
    "#full string predicts end of line char\n",
    "\n",
    "def mapsubstrings(str):\n",
    "    substrings = []\n",
    "    nextchars = []\n",
    "    \n",
    "    str = STARTCHAR + str\n",
    "    for i in range(len(str)):\n",
    "        substrings.append(str[:i])\n",
    "        nextchars.append(str[i])\n",
    "\n",
    "    substrings.append(str)\n",
    "    nextchars.append(ENDCHAR)\n",
    "        \n",
    "    return(zip(substrings,nextchars)[1:])\n",
    "    \n",
    "mapsubstrings('aloha')\n"
   ]
  },
  {
   "cell_type": "code",
   "execution_count": 4,
   "metadata": {},
   "outputs": [
    {
     "name": "stdout",
     "output_type": "stream",
     "text": [
      "['{', '{1', '{10', '{10-', '{10-1', '{10-15', '{10-15 ', '{10-15 a', '{10-15 as', '{10-15 ass', '{10-15 asso', '{10-15 assoc', '{10-15 associ', '{10-15 associa', '{10-15 associat', '{10-15 associate', '{10-15 associates', '{10-15 associates ', '{10-15 associates i', '{10-15 associates in', '{10-15 associates inc', '{', '{1', '{10', '{10k', '{10k ', '{10k c', '{10k ca', '{10k cap', '{10k capi', '{10k capit', '{10k capita', '{10k capital', '{10k capital ', '{10k capital l', '{10k capital ll', '{10k capital llc', '{', '{1', '{10', '{10x', '{10x ', '{10x i', '{10x in', '{10x inv', '{10x inve', '{10x inves', '{10x invest', '{10x investm', '{10x investme', '{10x investmen', '{10x investment', '{10x investments', '{', '{1', '{10', '{10x', '{10x ', '{10x i', '{10x in', '{10x inv', '{10x inve', '{10x inves', '{10x invest', '{10x investm', '{10x investme', '{10x investmen', '{10x investment', '{10x investments', '{10x investments ', '{10x investments (', '{10x investments (p', '{10x investments (pt', '{10x investments (pty', '{10x investments (pty)', '{10x investments (pty) ', '{10x investments (pty) l', '{10x investments (pty) lt', '{10x investments (pty) ltd', '{', '{1', '{11', '{110', '{110 ', '{110 a', '{110 ad', '{110 adv', '{110 advi', '{110 advis', '{110 adviso', '{110 advisor', '{110 advisory', '{', '{1', '{11', '{119', '{1199', '{1199s', '{1199se', '{1199sei', '{1199seiu', '{1199seiu ', '{1199seiu b', '{1199seiu be', '{1199seiu ben', '{1199seiu bene', '{1199seiu benef', '{1199seiu benefi', '{1199seiu benefit', '{1199seiu benefit ', '{1199seiu benefit a', '{1199seiu benefit an', '{1199seiu benefit and', '{1199seiu benefit and ', '{1199seiu benefit and p', '{1199seiu benefit and pe', '{1199seiu benefit and pen', '{1199seiu benefit and pens', '{1199seiu benefit and pensi', '{1199seiu benefit and pensio', '{1199seiu benefit and pension', '{1199seiu benefit and pension ', '{1199seiu benefit and pension f', '{1199seiu benefit and pension fu', '{1199seiu benefit and pension fun', '{1199seiu benefit and pension fund', '{1199seiu benefit and pension funds', '{', '{1', '{11', '{119', '{1199', '{1199s', '{1199se', '{1199sei', '{1199seiu', '{1199seiu ', '{1199seiu f', '{1199seiu fu', '{1199seiu fun', '{1199seiu fund', '{1199seiu funds', '{', '{1', '{11', '{119', '{1199', '{1199 ', '{1199 s', '{1199 se', '{1199 sei', '{1199 seiu', '{1199 seiu ', '{1199 seiu n', '{1199 seiu na', '{1199 seiu nat', '{1199 seiu nati', '{1199 seiu natio', '{1199 seiu nation', '{1199 seiu nationa', '{1199 seiu national', '{1199 seiu national ', '{1199 seiu national b', '{1199 seiu national be', '{1199 seiu national ben', '{1199 seiu national bene', '{1199 seiu national benef', '{1199 seiu national benefi', '{1199 seiu national benefit', '{1199 seiu national benefit ', '{1199 seiu national benefit f', '{1199 seiu national benefit fu', '{1199 seiu national benefit fun', '{1199 seiu national benefit fund', '{', '{1', '{12', '{120', '{1207', '{1207 ', '{1207 c', '{1207 ca', '{1207 cap', '{1207 capi', '{1207 capit', '{1207 capita', '{1207 capital', '{1207 capital ', '{1207 capital g', '{1207 capital gr', '{1207 capital gro', '{1207 capital grou', '{1207 capital group', '{1207 capital group,', '{1207 capital group, ', '{1207 capital group, l', '{1207 capital group, ll', '{1207 capital group, llc', '{1207 capital group, llc ', '{1207 capital group, llc (', '{1207 capital group, llc (d', '{1207 capital group, llc (d/', '{1207 capital group, llc (d/b', '{1207 capital group, llc (d/b/', '{1207 capital group, llc (d/b/a', '{1207 capital group, llc (d/b/a ', '{1207 capital group, llc (d/b/a c', '{1207 capital group, llc (d/b/a ci', '{1207 capital group, llc (d/b/a cim', '{1207 capital group, llc (d/b/a cima', '{1207 capital group, llc (d/b/a cimar', '{1207 capital group, llc (d/b/a cimarr', '{1207 capital group, llc (d/b/a cimarro', '{1207 capital group, llc (d/b/a cimarron', '{1207 capital group, llc (d/b/a cimarron ', '{1207 capital group, llc (d/b/a cimarron f', '{1207 capital group, llc (d/b/a cimarron fu', '{1207 capital group, llc (d/b/a cimarron fun', '{1207 capital group, llc (d/b/a cimarron fund', '{1207 capital group, llc (d/b/a cimarron funds', '{1207 capital group, llc (d/b/a cimarron funds)', '{', '{1', '{12', '{12t', '{12th', '{12th ', '{12th s', '{12th st', '{12th str', '{12th stre', '{12th stree', '{12th street', '{12th street ', '{12th street a', '{12th street as', '{12th street ass', '{12th street asse', '{12th street asset', '{12th street asset ', '{12th street asset m', '{12th street asset ma', '{12th street asset man', '{12th street asset mana', '{12th street asset manag', '{12th street asset manage', '{12th street asset managem', '{12th street asset manageme', '{12th street asset managemen', '{12th street asset management', '{', '{1', '{12', '{12 ', '{12 w', '{12 we', '{12 wes', '{12 west', '{12 west ', '{12 west c', '{12 west ca', '{12 west cap', '{12 west capi', '{12 west capit', '{12 west capita', '{12 west capital', '{12 west capital ', '{12 west capital m', '{12 west capital ma', '{12 west capital man', '{12 west capital mana', '{12 west capital manag', '{12 west capital manage', '{12 west capital managem', '{12 west capital manageme', '{12 west capital managemen', '{12 west capital management', '{12 west capital management ', '{12 west capital management l', '{12 west capital management lp', '{', '{1', '{13', '{13d', '{13d ', '{13d m', '{13d ma', '{13d man', '{13d mana', '{13d manag', '{13d manage', '{13d managem', '{13d manageme', '{13d managemen', '{13d management', '{13d management ', '{13d management l', '{13d management ll', '{13d management llc', '{', '{1', '{13', '{13t', '{13th', '{13th ', '{13th f', '{13th fl', '{13th flo', '{13th floo', '{13th floor', '{13th floor ', '{13th floor i', '{13th floor in', '{13th floor inv', '{13th floor inve', '{13th floor inves', '{13th floor invest', '{13th floor investm', '{13th floor investme', '{13th floor investmen', '{13th floor investment', '{13th floor investments', '{', '{1', '{14', '{149', '{1492', '{1492 ', '{1492 c', '{1492 ca', '{1492 cap', '{1492 capi', '{1492 capit', '{1492 capita', '{1492 capital', '{1492 capital ', '{1492 capital m', '{1492 capital ma', '{1492 capital man', '{1492 capital mana', '{1492 capital manag', '{1492 capital manage', '{1492 capital managem', '{1492 capital manageme', '{1492 capital managemen', '{1492 capital management', '{', '{1', '{14', '{14c', '{14ca', '{14cap', '{14capi', '{14capit', '{14capita', '{14capital', '{14capital ', '{14capital l', '{14capital ll', '{14capital llc', '{', '{1', '{16', '{160', '{1607', '{1607 ', '{1607 c', '{1607 ca', '{1607 cap', '{1607 capi', '{1607 capit', '{1607 capita', '{1607 capital', '{1607 capital ', '{1607 capital p', '{1607 capital pa', '{1607 capital par', '{1607 capital part', '{1607 capital partn', '{1607 capital partne', '{1607 capital partner', '{', '{1', '{16', '{160', '{1607', '{1607 ', '{1607 c', '{1607 ca', '{1607 cap', '{1607 capi', '{1607 capit', '{1607 capita', '{1607 capital', '{1607 capital ', '{1607 capital p', '{1607 capital pa', '{1607 capital par', '{1607 capital part', '{1607 capital partn', '{1607 capital partne', '{1607 capital partner', '{1607 capital partners', '{1607 capital partners ', '{1607 capital partners l', '{1607 capital partners ll', '{1607 capital partners llc', '{', '{1', '{17', '{179', '{1798', '{1798 ', '{1798 f', '{1798 fu', '{1798 fun', '{1798 fund', '{1798 funda', '{1798 fundam', '{1798 fundame', '{1798 fundamen', '{1798 fundament', '{1798 fundamenta', '{1798 fundamental', '{1798 fundamental ', '{1798 fundamental s', '{1798 fundamental st', '{1798 fundamental str', '{1798 fundamental stra', '{1798 fundamental strat', '{1798 fundamental strate', '{1798 fundamental strateg', '{1798 fundamental strategi', '{1798 fundamental strategie', '{1798 fundamental strategies', '{1798 fundamental strategies ', '{1798 fundamental strategies f', '{1798 fundamental strategies fu', '{1798 fundamental strategies fun', '{1798 fundamental strategies fund', '{1798 fundamental strategies fund ', '{1798 fundamental strategies fund l', '{1798 fundamental strategies fund lp', '{', '{1', '{18', '{183', '{1832', '{1832 ', '{1832 a', '{1832 as', '{1832 ass', '{1832 asse', '{1832 asset', '{1832 asset ', '{1832 asset m', '{1832 asset ma', '{1832 asset man', '{1832 asset mana', '{1832 asset manag', '{1832 asset manage', '{1832 asset managem', '{1832 asset manageme', '{1832 asset managemen', '{1832 asset management', '{', '{1', '{18', '{183', '{1832', '{1832 ', '{1832 a', '{1832 as', '{1832 ass', '{1832 asse', '{1832 asset', '{1832 asset ', '{1832 asset m', '{1832 asset ma', '{1832 asset man', '{1832 asset mana', '{1832 asset manag', '{1832 asset manage', '{1832 asset managem', '{1832 asset manageme', '{1832 asset managemen', '{1832 asset management', '{1832 asset management ', '{1832 asset management l', '{1832 asset management lp', '{1832 asset management lp ', '{1832 asset management lp (', '{1832 asset management lp (s', '{1832 asset management lp (sc', '{1832 asset management lp (sco', '{1832 asset management lp (scot', '{1832 asset management lp (scoti', '{1832 asset management lp (scotia', '{1832 asset management lp (scotia ', '{1832 asset management lp (scotia w', '{1832 asset management lp (scotia we', '{1832 asset management lp (scotia wea', '{1832 asset management lp (scotia weal', '{1832 asset management lp (scotia wealt', '{1832 asset management lp (scotia wealth', '{1832 asset management lp (scotia wealth ', '{1832 asset management lp (scotia wealth m', '{1832 asset management lp (scotia wealth ma', '{1832 asset management lp (scotia wealth man', '{1832 asset management lp (scotia wealth mana', '{1832 asset management lp (scotia wealth manag', '{1832 asset management lp (scotia wealth manage', '{1832 asset management lp (scotia wealth managem', '{1832 asset management lp (scotia wealth manageme', '{1832 asset management lp (scotia wealth managemen', '{1832 asset management lp (scotia wealth management', '{', '{1', '{18', '{183', '{1832', '{1832 ', '{1832 a', '{1832 as', '{1832 ass', '{1832 asse', '{1832 asset', '{1832 asset ', '{1832 asset m', '{1832 asset ma', '{1832 asset man', '{1832 asset mang', '{1832 asset mange', '{1832 asset mangem', '{1832 asset mangeme', '{1832 asset mangemen', '{1832 asset mangement', '{', '{1', '{18', '{188', '{1888', '{1888 ', '{1888 m', '{1888 ma', '{1888 man', '{1888 mana', '{1888 manag', '{1888 manage', '{1888 managem', '{1888 manageme', '{1888 managemen', '{1888 management', '{1888 management,', '{1888 management, ', '{1888 management, l', '{1888 management, ll', '{1888 management, llc', '{', '{1', '{18', '{18 ', '{18 a', '{18 as', '{18 ass', '{18 asse', '{18 asset', '{18 asset ', '{18 asset m', '{18 asset ma', '{18 asset man', '{18 asset mana', '{18 asset manag', '{18 asset manage', '{18 asset managem', '{18 asset manageme', '{18 asset managemen', '{18 asset management', '{18 asset management ', '{18 asset management i', '{18 asset management in', '{18 asset management inc', '{', '{1', '{19', '{190', '{1901', '{1901 ', '{1901 p', '{1901 pa', '{1901 par', '{1901 part', '{1901 partn', '{1901 partne', '{1901 partner', '{1901 partners', '{1901 partners ', '{1901 partners m', '{1901 partners ma', '{1901 partners man', '{1901 partners mana', '{1901 partners manag', '{1901 partners manage', '{1901 partners managem', '{1901 partners manageme', '{1901 partners managemen', '{1901 partners management', '{1901 partners management,', '{1901 partners management, ', '{1901 partners management, l', '{1901 partners management, lp', '{', '{1', '{19', '{19/', '{19/1', '{19/19', '{19/19 ', '{19/19 i', '{19/19 in', '{19/19 inv', '{19/19 inve', '{19/19 inves', '{19/19 invest', '{19/19 investm', '{19/19 investme', '{19/19 investmen', '{19/19 investment', '{19/19 investment ', '{19/19 investment c', '{19/19 investment co', '{19/19 investment cou', '{19/19 investment coun', '{19/19 investment couns', '{19/19 investment counse', '{19/19 investment counsel', '{', '{1', '{19', '{191', '{1919', '{1919 ', '{1919 i', '{1919 in', '{1919 inv', '{1919 inve', '{1919 inves', '{1919 invest', '{1919 investm', '{1919 investme', '{1919 investmen', '{1919 investment', '{1919 investment ', '{1919 investment c', '{1919 investment co', '{1919 investment cou', '{1919 investment coun', '{1919 investment couns', '{1919 investment counse', '{1919 investment counsel', '{1919 investment counsel ', '{1919 investment counsel &', '{1919 investment counsel & ', '{1919 investment counsel & t', '{1919 investment counsel & tr', '{1919 investment counsel & tru', '{1919 investment counsel & trus', '{1919 investment counsel & trust', '{1919 investment counsel & trust ', '{1919 investment counsel & trust c', '{1919 investment counsel & trust co', '{1919 investment counsel & trust com', '{1919 investment counsel & trust comp', '{1919 investment counsel & trust compa', '{1919 investment counsel & trust compan', '{1919 investment counsel & trust company', '{1919 investment counsel & trust company,', '{1919 investment counsel & trust company, ', '{1919 investment counsel & trust company, n', '{1919 investment counsel & trust company, na', '{', '{1', '{19', '{192', '{1922', '{1922 ', '{1922 i', '{1922 in', '{1922 inv', '{1922 inve', '{1922 inves', '{1922 invest', '{1922 investm', '{1922 investme', '{1922 investmen', '{1922 investment', '{1922 investment ', '{1922 investment c', '{1922 investment co', '{1922 investment com', '{1922 investment comp', '{1922 investment compa', '{1922 investment compan', '{1922 investment company', '{1922 investment company ', '{1922 investment company l', '{1922 investment company ll', '{1922 investment company llc', '{', '{1', '{19', '{194', '{1949', '{1949 ', '{1949 v', '{1949 va', '{1949 val', '{1949 valu', '{1949 value', '{1949 value ', '{1949 value a', '{1949 value ad', '{1949 value adv', '{1949 value advi', '{1949 value advis', '{1949 value adviso', '{1949 value advisor', '{1949 value advisors', '{1949 value advisors ', '{1949 value advisors l', '{1949 value advisors ll', '{1949 value advisors llc', '{', '{1', '{19', '{19 ', '{19 d', '{19 de', '{19 deg', '{19 degr', '{19 degre', '{19 degree', '{19 degrees', '{19 degrees ', '{19 degrees n', '{19 degrees no', '{19 degrees nor', '{19 degrees nort', '{19 degrees north', '{19 degrees north ', '{19 degrees north f', '{19 degrees north fu', '{19 degrees north fun', '{19 degrees north fund', '{19 degrees north fund ', '{19 degrees north fund s', '{19 degrees north fund se', '{19 degrees north fund ser', '{19 degrees north fund serv', '{19 degrees north fund servi', '{19 degrees north fund servic', '{19 degrees north fund service', '{19 degrees north fund services', '{19 degrees north fund services ', '{19 degrees north fund services l', '{19 degrees north fund services lt', '{19 degrees north fund services ltd', '{', '{1', '{1s', '{1st', '{1st ', '{1st g', '{1st gl', '{1st glo', '{1st glob', '{1st globa', '{1st global', '{', '{1', '{1s', '{1st', '{1st ', '{1st s', '{1st so', '{1st sou', '{1st sour', '{1st sourc', '{1st source', '{1st source ', '{1st source i', '{1st source in', '{1st source inv', '{1st source inve', '{1st source inves', '{1st source invest', '{1st source investm', '{1st source investme', '{1st source investmen', '{1st source investment', '{1st source investment ', '{1st source investment a', '{1st source investment ad', '{1st source investment adv', '{1st source investment advi', '{1st source investment advis', '{1st source investment advise', '{1st source investment adviser', '{1st source investment advisers', '{', '{2', '{20', '{20/', '{20/2', '{20/20', '{20/20 ', '{20/20 c', '{20/20 ca', '{20/20 cap', '{20/20 capi', '{20/20 capit', '{20/20 capita', '{20/20 capital', '{20/20 capital ', '{20/20 capital g', '{20/20 capital gr', '{20/20 capital gro', '{20/20 capital grou', '{20/20 capital group', '{', '{2', '{20', '{20/', '{20/2', '{20/20', '{20/20 ', '{20/20 c', '{20/20 ca', '{20/20 cap', '{20/20 capi', '{20/20 capit', '{20/20 capita', '{20/20 capital', '{20/20 capital ', '{20/20 capital m', '{20/20 capital ma', '{20/20 capital man', '{20/20 capital mana', '{20/20 capital manag', '{20/20 capital manage', '{20/20 capital managem', '{20/20 capital manageme', '{20/20 capital managemen', '{20/20 capital management', '{20/20 capital management,', '{20/20 capital management, ', '{20/20 capital management, i', '{20/20 capital management, in', '{20/20 capital management, inc', '{', '{2', '{20', '{20 ', '{20 g', '{20 ga', '{20 gat', '{20 gate', '{20 gates', '{20 gates ', '{20 gates m', '{20 gates ma', '{20 gates man', '{20 gates mana', '{20 gates manag', '{20 gates manage', '{20 gates managem', '{20 gates manageme', '{20 gates managemen', '{20 gates management', '{20 gates management ', '{20 gates management l', '{20 gates management ll', '{20 gates management llc', '{', '{2', '{20', '{20 ', '{20 v', '{20 vi', '{20 vic', '{20 vic ', '{20 vic m', '{20 vic ma', '{20 vic man', '{20 vic mana', '{20 vic manag', '{20 vic manage', '{20 vic managem', '{20 vic manageme', '{20 vic managemen', '{20 vic management', '{20 vic management ', '{20 vic management i', '{20 vic management in', '{20 vic management inc', '{', '{2', '{25', '{25 ', '{25 c', '{25 ca', '{25 cap', '{25 capi', '{25 capit', '{25 capita', '{25 capital', '{25 capital ', '{25 capital p', '{25 capital pa', '{25 capital par', '{25 capital part', '{25 capital partn', '{25 capital partne', '{25 capital partner', '{25 capital partners', '{', '{2', '{27', '{27f', '{27fo', '{27fou', '{27four', '{27four ', '{27four i', '{27four in', '{27four inv', '{27four inve', '{27four inves', '{27four invest', '{27four investm', '{27four investme', '{27four investmen', '{27four investment', '{27four investment ', '{27four investment m', '{27four investment ma', '{27four investment man', '{27four investment mana', '{27four investment manag', '{27four investment manage', '{27four investment manager', '{27four investment managers', '{27four investment managers ', '{27four investment managers (', '{27four investment managers (p', '{27four investment managers (pt', '{27four investment managers (pty', '{27four investment managers (pty)', '{27four investment managers (pty) ', '{27four investment managers (pty) l', '{27four investment managers (pty) lt', '{27four investment managers (pty) ltd', '{', '{2', '{2c', '{2c ', '{2c i', '{2c in', '{2c inv', '{2c inve', '{2c inves', '{2c invest', '{2c investm', '{2c investme', '{2c investmen', '{2c investment', '{2c investment ', '{2c investment a', '{2c investment ad', '{2c investment adv', '{2c investment advi', '{2c investment advis', '{2c investment adviso', '{2c investment advisor', '{2c investment advisory', '{', '{2', '{2i', '{2ip', '{2ip ', '{2ip i', '{2ip in', '{2ip ind', '{2ip inde', '{2ip indep', '{2ip indepe', '{2ip indepen', '{2ip independ', '{2ip independe', '{2ip independen', '{2ip independent', '{2ip independent ', '{2ip independent i', '{2ip independent in', '{2ip independent inv', '{2ip independent inve', '{2ip independent inves', '{2ip independent invest', '{2ip independent investm', '{2ip independent investme', '{2ip independent investmen', '{2ip independent investment', '{2ip independent investment ', '{2ip independent investment p', '{2ip independent investment pa', '{2ip independent investment par', '{2ip independent investment part']\n",
      "['1', '0', '-', '1', '5', ' ', 'a', 's', 's', 'o', 'c', 'i', 'a', 't', 'e', 's', ' ', 'i', 'n', 'c', '}', '1', '0', 'k', ' ', 'c', 'a', 'p', 'i', 't', 'a', 'l', ' ', 'l', 'l', 'c', '}', '1', '0', 'x', ' ', 'i', 'n', 'v', 'e', 's', 't', 'm', 'e', 'n', 't', 's', '}', '1', '0', 'x', ' ', 'i', 'n', 'v', 'e', 's', 't', 'm', 'e', 'n', 't', 's', ' ', '(', 'p', 't', 'y', ')', ' ', 'l', 't', 'd', '}', '1', '1', '0', ' ', 'a', 'd', 'v', 'i', 's', 'o', 'r', 'y', '}', '1', '1', '9', '9', 's', 'e', 'i', 'u', ' ', 'b', 'e', 'n', 'e', 'f', 'i', 't', ' ', 'a', 'n', 'd', ' ', 'p', 'e', 'n', 's', 'i', 'o', 'n', ' ', 'f', 'u', 'n', 'd', 's', '}', '1', '1', '9', '9', 's', 'e', 'i', 'u', ' ', 'f', 'u', 'n', 'd', 's', '}', '1', '1', '9', '9', ' ', 's', 'e', 'i', 'u', ' ', 'n', 'a', 't', 'i', 'o', 'n', 'a', 'l', ' ', 'b', 'e', 'n', 'e', 'f', 'i', 't', ' ', 'f', 'u', 'n', 'd', '}', '1', '2', '0', '7', ' ', 'c', 'a', 'p', 'i', 't', 'a', 'l', ' ', 'g', 'r', 'o', 'u', 'p', ',', ' ', 'l', 'l', 'c', ' ', '(', 'd', '/', 'b', '/', 'a', ' ', 'c', 'i', 'm', 'a', 'r', 'r', 'o', 'n', ' ', 'f', 'u', 'n', 'd', 's', ')', '}', '1', '2', 't', 'h', ' ', 's', 't', 'r', 'e', 'e', 't', ' ', 'a', 's', 's', 'e', 't', ' ', 'm', 'a', 'n', 'a', 'g', 'e', 'm', 'e', 'n', 't', '}', '1', '2', ' ', 'w', 'e', 's', 't', ' ', 'c', 'a', 'p', 'i', 't', 'a', 'l', ' ', 'm', 'a', 'n', 'a', 'g', 'e', 'm', 'e', 'n', 't', ' ', 'l', 'p', '}', '1', '3', 'd', ' ', 'm', 'a', 'n', 'a', 'g', 'e', 'm', 'e', 'n', 't', ' ', 'l', 'l', 'c', '}', '1', '3', 't', 'h', ' ', 'f', 'l', 'o', 'o', 'r', ' ', 'i', 'n', 'v', 'e', 's', 't', 'm', 'e', 'n', 't', 's', '}', '1', '4', '9', '2', ' ', 'c', 'a', 'p', 'i', 't', 'a', 'l', ' ', 'm', 'a', 'n', 'a', 'g', 'e', 'm', 'e', 'n', 't', '}', '1', '4', 'c', 'a', 'p', 'i', 't', 'a', 'l', ' ', 'l', 'l', 'c', '}', '1', '6', '0', '7', ' ', 'c', 'a', 'p', 'i', 't', 'a', 'l', ' ', 'p', 'a', 'r', 't', 'n', 'e', 'r', '}', '1', '6', '0', '7', ' ', 'c', 'a', 'p', 'i', 't', 'a', 'l', ' ', 'p', 'a', 'r', 't', 'n', 'e', 'r', 's', ' ', 'l', 'l', 'c', '}', '1', '7', '9', '8', ' ', 'f', 'u', 'n', 'd', 'a', 'm', 'e', 'n', 't', 'a', 'l', ' ', 's', 't', 'r', 'a', 't', 'e', 'g', 'i', 'e', 's', ' ', 'f', 'u', 'n', 'd', ' ', 'l', 'p', '}', '1', '8', '3', '2', ' ', 'a', 's', 's', 'e', 't', ' ', 'm', 'a', 'n', 'a', 'g', 'e', 'm', 'e', 'n', 't', '}', '1', '8', '3', '2', ' ', 'a', 's', 's', 'e', 't', ' ', 'm', 'a', 'n', 'a', 'g', 'e', 'm', 'e', 'n', 't', ' ', 'l', 'p', ' ', '(', 's', 'c', 'o', 't', 'i', 'a', ' ', 'w', 'e', 'a', 'l', 't', 'h', ' ', 'm', 'a', 'n', 'a', 'g', 'e', 'm', 'e', 'n', 't', '}', '1', '8', '3', '2', ' ', 'a', 's', 's', 'e', 't', ' ', 'm', 'a', 'n', 'g', 'e', 'm', 'e', 'n', 't', '}', '1', '8', '8', '8', ' ', 'm', 'a', 'n', 'a', 'g', 'e', 'm', 'e', 'n', 't', ',', ' ', 'l', 'l', 'c', '}', '1', '8', ' ', 'a', 's', 's', 'e', 't', ' ', 'm', 'a', 'n', 'a', 'g', 'e', 'm', 'e', 'n', 't', ' ', 'i', 'n', 'c', '}', '1', '9', '0', '1', ' ', 'p', 'a', 'r', 't', 'n', 'e', 'r', 's', ' ', 'm', 'a', 'n', 'a', 'g', 'e', 'm', 'e', 'n', 't', ',', ' ', 'l', 'p', '}', '1', '9', '/', '1', '9', ' ', 'i', 'n', 'v', 'e', 's', 't', 'm', 'e', 'n', 't', ' ', 'c', 'o', 'u', 'n', 's', 'e', 'l', '}', '1', '9', '1', '9', ' ', 'i', 'n', 'v', 'e', 's', 't', 'm', 'e', 'n', 't', ' ', 'c', 'o', 'u', 'n', 's', 'e', 'l', ' ', '&', ' ', 't', 'r', 'u', 's', 't', ' ', 'c', 'o', 'm', 'p', 'a', 'n', 'y', ',', ' ', 'n', 'a', '}', '1', '9', '2', '2', ' ', 'i', 'n', 'v', 'e', 's', 't', 'm', 'e', 'n', 't', ' ', 'c', 'o', 'm', 'p', 'a', 'n', 'y', ' ', 'l', 'l', 'c', '}', '1', '9', '4', '9', ' ', 'v', 'a', 'l', 'u', 'e', ' ', 'a', 'd', 'v', 'i', 's', 'o', 'r', 's', ' ', 'l', 'l', 'c', '}', '1', '9', ' ', 'd', 'e', 'g', 'r', 'e', 'e', 's', ' ', 'n', 'o', 'r', 't', 'h', ' ', 'f', 'u', 'n', 'd', ' ', 's', 'e', 'r', 'v', 'i', 'c', 'e', 's', ' ', 'l', 't', 'd', '}', '1', 's', 't', ' ', 'g', 'l', 'o', 'b', 'a', 'l', '}', '1', 's', 't', ' ', 's', 'o', 'u', 'r', 'c', 'e', ' ', 'i', 'n', 'v', 'e', 's', 't', 'm', 'e', 'n', 't', ' ', 'a', 'd', 'v', 'i', 's', 'e', 'r', 's', '}', '2', '0', '/', '2', '0', ' ', 'c', 'a', 'p', 'i', 't', 'a', 'l', ' ', 'g', 'r', 'o', 'u', 'p', '}', '2', '0', '/', '2', '0', ' ', 'c', 'a', 'p', 'i', 't', 'a', 'l', ' ', 'm', 'a', 'n', 'a', 'g', 'e', 'm', 'e', 'n', 't', ',', ' ', 'i', 'n', 'c', '}', '2', '0', ' ', 'g', 'a', 't', 'e', 's', ' ', 'm', 'a', 'n', 'a', 'g', 'e', 'm', 'e', 'n', 't', ' ', 'l', 'l', 'c', '}', '2', '0', ' ', 'v', 'i', 'c', ' ', 'm', 'a', 'n', 'a', 'g', 'e', 'm', 'e', 'n', 't', ' ', 'i', 'n', 'c', '}', '2', '5', ' ', 'c', 'a', 'p', 'i', 't', 'a', 'l', ' ', 'p', 'a', 'r', 't', 'n', 'e', 'r', 's', '}', '2', '7', 'f', 'o', 'u', 'r', ' ', 'i', 'n', 'v', 'e', 's', 't', 'm', 'e', 'n', 't', ' ', 'm', 'a', 'n', 'a', 'g', 'e', 'r', 's', ' ', '(', 'p', 't', 'y', ')', ' ', 'l', 't', 'd', '}', '2', 'c', ' ', 'i', 'n', 'v', 'e', 's', 't', 'm', 'e', 'n', 't', ' ', 'a', 'd', 'v', 'i', 's', 'o', 'r', 'y', '}', '2', 'i', 'p', ' ', 'i', 'n', 'd', 'e', 'p', 'e', 'n', 'd', 'e', 'n', 't', ' ', 'i', 'n', 'v', 'e', 's', 't', 'm', 'e', 'n', 't', ' ', 'p', 'a', 'r', 't', 'n']\n"
     ]
    }
   ],
   "source": [
    "# cut the file into strings and pad them\n",
    "with open(infile) as f:\n",
    "    content = f.readlines()\n",
    "    \n",
    "source_strings = []\n",
    "target_strings = []\n",
    "for str in content:\n",
    "    str = str.strip()\n",
    "    for source, target in mapsubstrings(str):\n",
    "        source_strings.append(source)\n",
    "        target_strings.append(target)\n",
    "        \n",
    "print(source_strings[:1017])\n",
    "print(target_strings[:1017])"
   ]
  },
  {
   "cell_type": "code",
   "execution_count": 5,
   "metadata": {},
   "outputs": [
    {
     "name": "stdout",
     "output_type": "stream",
     "text": [
      "longest string: 111 chars\n",
      "{\n",
      "(600287, 111, 59)\n",
      "[False False False False False False False False False False False False\n",
      " False False False False False False False False False False False False\n",
      " False False False False False False False False False False False False\n",
      " False False False False False False False False False False False False\n",
      " False False False False False False False False False  True False]\n",
      "1\n",
      "(600287, 59)\n",
      "[False False False False False False False False False False False False\n",
      " False False False  True False False False False False False False False\n",
      " False False False False False False False False False False False False\n",
      " False False False False False False False False False False False False\n",
      " False False False False False False False False False False False]\n"
     ]
    }
   ],
   "source": [
    "# map to 1-hot vectors\n",
    "MAXLEN=max(list([len(str) for str in source_strings]))\n",
    "print(\"longest string: %d chars\" % MAXLEN)\n",
    "\n",
    "X = np.zeros((len(source_strings), MAXLEN, len(chars)), dtype=np.bool)\n",
    "y = np.zeros((len(target_strings), len(chars)), dtype=np.bool)\n",
    "\n",
    "for i, source_string in enumerate(source_strings):\n",
    "    for t, char in enumerate(source_string):\n",
    "        X[i, t, char_to_ix[char]] = True\n",
    "\n",
    "for i, target_string in enumerate(target_strings):\n",
    "    y[i, char_to_ix[target_string[0]]] = True\n",
    "\n",
    "print(source_strings[0])\n",
    "print(X.shape)\n",
    "print(X[0][0])\n",
    "\n",
    "print(target_strings[0])\n",
    "print(y.shape)\n",
    "print(y[0])\n",
    "\n",
    "# select about 1/3 of the rows at random to speed things up\n",
    "sample_indexes = np.random.choice(X.shape[0], size=X.shape[0]/3, replace=False)\n",
    "X_sample = X[sample_indexes, :]\n",
    "y_sample = y[sample_indexes, :]"
   ]
  },
  {
   "cell_type": "code",
   "execution_count": 6,
   "metadata": {},
   "outputs": [],
   "source": [
    "def vec_to_char(v):\n",
    "    char_index = np.argmax(v)\n",
    "    return ix_to_char[char_index]\n",
    "\n",
    "def vec_to_string(x):\n",
    "    retstr=''\n",
    "    for i in range(1, MAXLEN):\n",
    "        one_hot_char=vec_to_char(x[i])\n",
    "        if one_hot_char == '\\n':\n",
    "            break\n",
    "        else:\n",
    "            retstr += (one_hot_char)\n",
    "    return retstr\n",
    "\n"
   ]
  },
  {
   "cell_type": "code",
   "execution_count": 10,
   "metadata": {},
   "outputs": [
    {
     "name": "stdout",
     "output_type": "stream",
     "text": [
      "_________________________________________________________________\n",
      "Layer (type)                 Output Shape              Param #   \n",
      "=================================================================\n",
      "gru_1 (GRU)                  (None, 111, 128)          72192     \n",
      "_________________________________________________________________\n",
      "gru_2 (GRU)                  (None, 64)                37056     \n",
      "_________________________________________________________________\n",
      "dense_1 (Dense)              (None, 59)                3835      \n",
      "_________________________________________________________________\n",
      "activation_1 (Activation)    (None, 59)                0         \n",
      "=================================================================\n",
      "Total params: 113,083\n",
      "Trainable params: 113,083\n",
      "Non-trainable params: 0\n",
      "_________________________________________________________________\n"
     ]
    }
   ],
   "source": [
    "bestmodel = 'fund_name_0.723500.h5'\n",
    "model = load_model(bestmodel)\n",
    "model.summary()"
   ]
  },
  {
   "cell_type": "code",
   "execution_count": null,
   "metadata": {},
   "outputs": [],
   "source": [
    "\n",
    "#model.add(GRU(512, input_shape=(MAXLEN, len(chars)), return_sequences=True))\n",
    "#model.add(GRU(512, input_shape=(MAXLEN, len(chars))))\n",
    "#odel.add(LSTM(512, input_shape=(MAXLEN, len(chars)), return_sequences=True))\n",
    "model = Sequential()\n",
    "model.add(GRU(128, input_shape=(MAXLEN, len(chars)), return_sequences=True))\n",
    "model.add(GRU(64, input_shape=(MAXLEN, len(chars))))\n",
    "model.add(Dense(len(chars)))\n",
    "model.add(Activation('softmax'))\n",
    "\n",
    "#optimizer = RMSprop(lr=0.01)\n",
    "model.compile(loss='categorical_crossentropy', optimizer='adam', metrics=['accuracy'])\n",
    "\n",
    "print(model.summary())\n"
   ]
  },
  {
   "cell_type": "code",
   "execution_count": 8,
   "metadata": {},
   "outputs": [
    {
     "name": "stdout",
     "output_type": "stream",
     "text": [
      "th\n",
      "e\n",
      "wcas fraser sullivan inve\n",
      "s\n"
     ]
    }
   ],
   "source": [
    "# shuffle training data and hold out 10000 for xval\n",
    "sample_size = X.shape[0]\n",
    "xval_size = 10000\n",
    "\n",
    "sample_indexes = np.random.choice(sample_size, size=sample_size, replace=False)\n",
    "\n",
    "X_xval = X[sample_indexes[:xval_size], :]\n",
    "y_xval = y[sample_indexes[:xval_size], :]\n",
    "\n",
    "X_sample = X[sample_indexes[xval_size:], :]\n",
    "y_sample = y[sample_indexes[xval_size:], :]\n",
    "\n",
    "print(vec_to_string(X_sample[15]))\n",
    "print(vec_to_char(y_sample[15]))\n",
    "print(vec_to_string(X_xval[15]))\n",
    "print(vec_to_char(y_xval[15]))"
   ]
  },
  {
   "cell_type": "code",
   "execution_count": null,
   "metadata": {},
   "outputs": [
    {
     "name": "stdout",
     "output_type": "stream",
     "text": [
      "Starting 06:41:16\n",
      "Epoch 1/1\n",
      "590287/590287 [==============================] - 139s 236us/step - loss: 0.8981 - acc: 0.7306\n",
      "Finished 06:43:36\n",
      "Xval Accuracy: 0.720700\n",
      "Saving fund_name_0.720700.h5\n",
      "Starting 06:43:45\n",
      "Epoch 1/1\n",
      "590287/590287 [==============================] - 139s 235us/step - loss: 0.8944 - acc: 0.7314\n",
      "Finished 06:46:04\n",
      "Xval Accuracy: 0.720700\n",
      "Saving fund_name_0.720700.h5\n",
      "Starting 06:46:12\n",
      "Epoch 1/1\n",
      "590287/590287 [==============================] - 139s 235us/step - loss: 0.8930 - acc: 0.7312\n",
      "Finished 06:48:31\n",
      "Xval Accuracy: 0.715900\n",
      "Saving fund_name_0.715900.h5\n",
      "Starting 06:48:40\n",
      "Epoch 1/1\n",
      "590287/590287 [==============================] - 138s 234us/step - loss: 0.8928 - acc: 0.7317\n",
      "Finished 06:50:58\n",
      "Xval Accuracy: 0.708400\n",
      "Saving fund_name_0.708400.h5\n",
      "Starting 06:51:07\n",
      "Epoch 1/1\n",
      "590287/590287 [==============================] - 139s 235us/step - loss: 0.8921 - acc: 0.7321\n",
      "Finished 06:53:25\n",
      "Xval Accuracy: 0.717800\n",
      "Saving fund_name_0.717800.h5\n",
      "Starting 06:53:34\n",
      "Epoch 1/1\n",
      "590287/590287 [==============================] - 138s 235us/step - loss: 0.8919 - acc: 0.7322\n",
      "Finished 06:55:52\n",
      "Xval Accuracy: 0.716300\n",
      "Saving fund_name_0.716300.h5\n",
      "Starting 06:56:01\n",
      "Epoch 1/1\n",
      "590287/590287 [==============================] - 138s 235us/step - loss: 0.8903 - acc: 0.7322\n",
      "Finished 06:58:20\n",
      "Xval Accuracy: 0.718700\n",
      "Saving fund_name_0.718700.h5\n",
      "Starting 06:58:28\n",
      "Epoch 1/1\n",
      "590287/590287 [==============================] - 139s 236us/step - loss: 0.8897 - acc: 0.7327\n",
      "Finished 07:00:47\n",
      "Xval Accuracy: 0.720100\n",
      "Saving fund_name_0.720100.h5\n",
      "Starting 07:00:56\n",
      "Epoch 1/1\n",
      "590287/590287 [==============================] - 139s 235us/step - loss: 0.8911 - acc: 0.7323\n",
      "Finished 07:03:15\n",
      "Xval Accuracy: 0.712200\n",
      "Saving fund_name_0.712200.h5\n",
      "Starting 07:03:23\n",
      "Epoch 1/1\n",
      "590287/590287 [==============================] - 138s 234us/step - loss: 0.8892 - acc: 0.7330\n",
      "Finished 07:05:41\n",
      "Xval Accuracy: 0.715400\n",
      "Saving fund_name_0.715400.h5\n",
      "Starting 07:05:50\n",
      "Epoch 1/1\n",
      "590287/590287 [==============================] - 138s 235us/step - loss: 0.8875 - acc: 0.7331\n",
      "Finished 07:08:09\n",
      "Xval Accuracy: 0.710600\n",
      "Saving fund_name_0.710600.h5\n",
      "Starting 07:08:17\n",
      "Epoch 1/1\n",
      "590287/590287 [==============================] - 139s 235us/step - loss: 0.8857 - acc: 0.7336\n",
      "Finished 07:10:36\n",
      "Xval Accuracy: 0.717000\n",
      "Saving fund_name_0.717000.h5\n",
      "Starting 07:10:45\n",
      "Epoch 1/1\n",
      "590287/590287 [==============================] - 138s 234us/step - loss: 0.8849 - acc: 0.7334\n",
      "Finished 07:13:03\n",
      "Xval Accuracy: 0.716500\n",
      "Saving fund_name_0.716500.h5\n",
      "Starting 07:13:12\n",
      "Epoch 1/1\n",
      "590287/590287 [==============================] - 138s 235us/step - loss: 0.8848 - acc: 0.7335\n",
      "Finished 07:15:30\n",
      "Xval Accuracy: 0.717300\n",
      "Saving fund_name_0.717300.h5\n",
      "Starting 07:15:39\n",
      "Epoch 1/1\n",
      "590287/590287 [==============================] - 139s 235us/step - loss: 0.8848 - acc: 0.7340\n",
      "Finished 07:17:58\n",
      "Xval Accuracy: 0.712900\n",
      "Saving fund_name_0.712900.h5\n",
      "Starting 07:18:07\n",
      "Epoch 1/1\n",
      "181248/590287 [========>.....................] - ETA: 1:37 - loss: 0.8764 - acc: 0.7352"
     ]
    }
   ],
   "source": [
    "model.compile(loss='categorical_crossentropy', optimizer='rmsprop', metrics=['accuracy'])\n",
    "\n",
    "y_xval_char=[vec_to_char(xv_y) for xv_y in y_xval]\n",
    "\n",
    "# keep training until xval accuracy maxes out\n",
    "for i in range(100):\n",
    "    print (\"Starting %s\" % time.strftime(\"%H:%M:%S\"))\n",
    "    fit = model.fit(X_sample, y_sample,\n",
    "                    batch_size=1024,\n",
    "                    epochs=1)\n",
    "    accuracy = fit.history['acc'][-1]\n",
    "    print (\"Finished %s\" % time.strftime(\"%H:%M:%S\"))\n",
    "    y_pred_xval = model.predict(X_xval)\n",
    "    y_pred_xval_char=[vec_to_char(pred) for pred in y_pred_xval]\n",
    "    y_eq = [ypc == ytc for ypc, ytc in zip (y_pred_xval_char,y_xval_char)]\n",
    "    xval_acc = sum(y_eq)*1.0/xval_size\n",
    "    print('Xval Accuracy: %.6f' % (xval_acc))\n",
    "    print (\"Saving fund_name_%f.h5\" % xval_acc)\n",
    "    model.save('fund_name_%f.h5' % xval_acc)\n"
   ]
  },
  {
   "cell_type": "code",
   "execution_count": null,
   "metadata": {},
   "outputs": [],
   "source": [
    "# def sample(preds, temperature=1.0):\n",
    "    # helper function to sample an index from a probability array\n",
    "    preds = np.asarray(preds).astype('float64')\n",
    "    preds = np.log(preds) / temperature\n",
    "    exp_preds = np.exp(preds)\n",
    "    preds = exp_preds / np.sum(exp_preds)\n",
    "    probas = np.random.multinomial(1, preds, 1)\n",
    "    return np.argmax(probas)\n",
    "\n",
    "\n",
    "def random_fund_name(first_letters='', temperature=0.667):\n",
    "    x = np.zeros((1, MAXLEN, len(chars)))\n",
    "    x[0] = X[0]\n",
    "    i = 1\n",
    "    for c in first_letters:\n",
    "        try:\n",
    "            x[0][i][char_to_ix[c]] = 1\n",
    "            i += 1\n",
    "        except:\n",
    "            pass\n",
    "\n",
    "#        print(vec_to_string(x[0]))\n",
    "        \n",
    "    for j in range(len(first_letters), MAXLEN-1):\n",
    "#        print(vec_to_string(x[0]))\n",
    "        preds = model.predict(x, verbose=0)\n",
    "        probs = preds[0]\n",
    "        #next_index = np.argmax(np.random.multinomial(1, probs, 1))\n",
    "        next_index=sample(probs, temperature=temperature)\n",
    "        if ix_to_char[next_index] == ENDCHAR:\n",
    "            break\n",
    "        x[0][j+1][next_index]=1\n",
    "\n",
    "    return vec_to_string(x[0])"
   ]
  },
  {
   "cell_type": "code",
   "execution_count": null,
   "metadata": {},
   "outputs": [],
   "source": [
    "for _ in range(10):\n",
    "    #print(random_fund_name())    \n",
    "    print(random_fund_name(first_letters='st', temperature=1.0))"
   ]
  },
  {
   "cell_type": "code",
   "execution_count": null,
   "metadata": {},
   "outputs": [],
   "source": [
    "x = np.zeros((1, MAXLEN, len(chars)))\n",
    "x[0] = X[0]\n",
    "print(vec_to_string(x[0]))\n",
    "preds = model.predict(x, verbose=0)\n",
    "probs = preds[0]\n",
    "next_index = np.random.multinomial(1, probs, 1)\n",
    "next_index"
   ]
  },
  {
   "cell_type": "code",
   "execution_count": null,
   "metadata": {},
   "outputs": [],
   "source": [
    "preds = model.predict(x, verbose=1)\n",
    "probs = preds[0]\n",
    "next_index = sample(probs)\n",
    "x[0][4][next_index]=1\n",
    "vec_to_string(x)"
   ]
  },
  {
   "cell_type": "code",
   "execution_count": null,
   "metadata": {},
   "outputs": [],
   "source": [
    "next_index = sample(probs)\n",
    "ix_to_char[next_index]\n",
    "x[0][1][next_index]=1vec_to_string(x)"
   ]
  },
  {
   "cell_type": "code",
   "execution_count": null,
   "metadata": {},
   "outputs": [],
   "source": [
    "preds = model.predict(x, verbose=1)"
   ]
  },
  {
   "cell_type": "code",
   "execution_count": null,
   "metadata": {},
   "outputs": [],
   "source": [
    "probs=preds[0]\n",
    "probs"
   ]
  },
  {
   "cell_type": "code",
   "execution_count": null,
   "metadata": {},
   "outputs": [],
   "source": [
    "sys.path"
   ]
  },
  {
   "cell_type": "code",
   "execution_count": null,
   "metadata": {},
   "outputs": [],
   "source": [
    "!cd"
   ]
  },
  {
   "cell_type": "code",
   "execution_count": null,
   "metadata": {},
   "outputs": [],
   "source": [
    "!pwd\n",
    "import time"
   ]
  },
  {
   "cell_type": "code",
   "execution_count": null,
   "metadata": {},
   "outputs": [],
   "source": [
    "print('%s Saving...' % time.strftime(\"%H:%M:%S\"))               \n",
    "modelname = \"generator_gru\" \n",
    "model.save(\"%s.h5\" % modelname)\n",
    "model.save_weights(\"%s_weights.h5\" % modelname)\n",
    "with open(\"%s.json\" % modelname, \"wb\") as fjson:\n",
    "     fjson.write(model.to_json()) \n",
    "print('%s Saved.' % time.strftime(\"%H:%M:%S\"))               \n",
    "\n",
    "\n"
   ]
  },
  {
   "cell_type": "code",
   "execution_count": null,
   "metadata": {},
   "outputs": [],
   "source": [
    "vec_to_string(X[2])"
   ]
  },
  {
   "cell_type": "code",
   "execution_count": null,
   "metadata": {},
   "outputs": [],
   "source": [
    "bestmodel = 'fund_name_0.801384.h5'\n",
    "model = load_model(bestmodel)\n",
    "model.summary()"
   ]
  },
  {
   "cell_type": "code",
   "execution_count": null,
   "metadata": {},
   "outputs": [],
   "source": [
    "X[0].shape"
   ]
  },
  {
   "cell_type": "code",
   "execution_count": null,
   "metadata": {},
   "outputs": [],
   "source": [
    "sum(X[0])"
   ]
  },
  {
   "cell_type": "code",
   "execution_count": null,
   "metadata": {},
   "outputs": [],
   "source": []
  }
 ],
 "metadata": {
  "kernelspec": {
   "display_name": "tensorflow",
   "language": "python",
   "name": "tensorflow"
  },
  "language_info": {
   "codemirror_mode": {
    "name": "ipython",
    "version": 2
   },
   "file_extension": ".py",
   "mimetype": "text/x-python",
   "name": "python",
   "nbconvert_exporter": "python",
   "pygments_lexer": "ipython2",
   "version": "2.7.14"
  }
 },
 "nbformat": 4,
 "nbformat_minor": 2
}
